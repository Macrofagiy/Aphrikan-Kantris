a = (1)
Print(a)
